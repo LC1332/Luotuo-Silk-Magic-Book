{
  "cells": [
    {
      "cell_type": "code",
      "execution_count": null,
      "metadata": {
        "id": "RGZ4KgtNrp-s"
      },
      "outputs": [],
      "source": []
    },
    {
      "cell_type": "code",
      "execution_count": 1,
      "metadata": {},
      "outputs": [
        {
          "name": "stdout",
          "output_type": "stream",
          "text": [
            "hello world\n"
          ]
        }
      ],
      "source": [
        "print('hello world')"
      ]
    },
    {
      "attachments": {},
      "cell_type": "markdown",
      "metadata": {},
      "source": [
        "我有一个文件README_prefix.md， 我希望对这个文件中的所有文本进行读取，写入到README.md中，然后再在README.md后面输出一行\"hello world\",请用Python为我实现"
      ]
    },
    {
      "cell_type": "code",
      "execution_count": 2,
      "metadata": {},
      "outputs": [],
      "source": [
        "# 打开原始文件和目标文件\n",
        "with open(\"README_prefix.md\", \"r\") as infile, open(\"README.md\", \"w\") as outfile:\n",
        "    # 读取原始文件中的全部内容，并写入目标文件\n",
        "    content = infile.read()\n",
        "    outfile.write(content)\n",
        "\n",
        "# 在目标文件末尾追加一行\"hello world\"\n",
        "# with open(\"README.md\", \"a\") as outfile:\n",
        "#     outfile.write(\"\\nhello world\\n\")"
      ]
    },
    {
      "attachments": {},
      "cell_type": "markdown",
      "metadata": {},
      "source": [
        "我有一个csv文件,'AIPRM.csv',请在Python中使用pandas为我读入这个文件。这个文件的第一行都是标题，从第二行开始才是内容。读入之后，调用'Title'那一列的前3个元素并打印。"
      ]
    },
    {
      "cell_type": "code",
      "execution_count": 10,
      "metadata": {},
      "outputs": [
        {
          "name": "stdout",
          "output_type": "stream",
          "text": [
            "['SOE write', 'MidJourney Prompt Generator', 'Buyer Persona Legend']\n"
          ]
        }
      ],
      "source": [
        "import pandas as pd\n",
        "\n",
        "# 读取CSV文件\n",
        "df = pd.read_csv('AIPRM.csv')\n",
        "\n",
        "# 打印前3个'Title'元素\n",
        "print( list(df['Title'][:3]))\n",
        "\n",
        "n = df.shape[0]"
      ]
    },
    {
      "cell_type": "code",
      "execution_count": 11,
      "metadata": {},
      "outputs": [
        {
          "name": "stdout",
          "output_type": "stream",
          "text": [
            "SOE write\n",
            "MidJourney Prompt Generator\n",
            "Buyer Persona Legend\n",
            "Write A Book\n",
            "youtube script creator\n",
            "nan\n",
            "content rewriter\n",
            "blog\n",
            "instagram\n",
            "course creator\n",
            "nan\n",
            "Blog Post Titel generator\n",
            "30 social media posts\n"
          ]
        }
      ],
      "source": [
        "for i in range(n):\n",
        "    print(df['Title'][i])"
      ]
    },
    {
      "cell_type": "code",
      "execution_count": null,
      "metadata": {},
      "outputs": [],
      "source": []
    },
    {
      "attachments": {},
      "cell_type": "markdown",
      "metadata": {},
      "source": [
        "我有一个文件README_suffix.md， 我希望对这个文件中的所有文本进行读取，续写到README.md中，请用Python为我实现"
      ]
    },
    {
      "cell_type": "code",
      "execution_count": 12,
      "metadata": {},
      "outputs": [],
      "source": [
        "# import os\n",
        "\n",
        "# 读取README_suffix.md文件中的内容\n",
        "with open('README_suffix.md', 'r') as f:\n",
        "    content = f.read()\n",
        "\n",
        "# 将读取到的内容续写到README.md文件中\n",
        "with open('README.md', 'a') as f:\n",
        "    f.write('\\n')   # 先换行，防止追加内容分行\n",
        "    f.write(content)\n",
        "\n",
        "# 删除README_suffix.md文件\n",
        "# os.remove('README_suffix.md')\n",
        "# 鲁：别删除啊 怎么还给我删除了！"
      ]
    },
    {
      "cell_type": "code",
      "execution_count": null,
      "metadata": {},
      "outputs": [],
      "source": []
    }
  ],
  "metadata": {
    "colab": {
      "provenance": []
    },
    "kernelspec": {
      "display_name": "Python 3",
      "name": "python3"
    },
    "language_info": {
      "codemirror_mode": {
        "name": "ipython",
        "version": 3
      },
      "file_extension": ".py",
      "mimetype": "text/x-python",
      "name": "python",
      "nbconvert_exporter": "python",
      "pygments_lexer": "ipython3",
      "version": "3.7.3"
    }
  },
  "nbformat": 4,
  "nbformat_minor": 0
}
