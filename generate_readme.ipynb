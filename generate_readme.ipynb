{
  "cells": [
    {
      "cell_type": "code",
      "execution_count": null,
      "metadata": {
        "id": "RGZ4KgtNrp-s"
      },
      "outputs": [],
      "source": []
    },
    {
      "cell_type": "code",
      "execution_count": 18,
      "metadata": {},
      "outputs": [
        {
          "name": "stdout",
          "output_type": "stream",
          "text": [
            "hello world\n"
          ]
        }
      ],
      "source": [
        "print('hello world')"
      ]
    },
    {
      "attachments": {},
      "cell_type": "markdown",
      "metadata": {},
      "source": [
        "我有一个文件README_prefix.md， 我希望对这个文件中的所有文本进行读取，写入到README.md中，然后再在README.md后面输出一行\"hello world\",请用Python为我实现"
      ]
    },
    {
      "cell_type": "code",
      "execution_count": 19,
      "metadata": {},
      "outputs": [],
      "source": [
        "# 打开原始文件和目标文件\n",
        "with open(\"README_prefix.md\", \"r\") as infile, open(\"README.md\", \"w\") as outfile:\n",
        "    # 读取原始文件中的全部内容，并写入目标文件\n",
        "    content = infile.read()\n",
        "    outfile.write(content)\n",
        "\n",
        "# 在目标文件末尾追加一行\"hello world\"\n",
        "# with open(\"README.md\", \"a\") as outfile:\n",
        "#     outfile.write(\"\\nhello world\\n\")"
      ]
    },
    {
      "attachments": {},
      "cell_type": "markdown",
      "metadata": {},
      "source": [
        "我有一个csv文件,'AIPRM.csv',请在Python中使用pandas为我读入这个文件。这个文件的第一行都是标题，从第二行开始才是内容。读入之后，调用'Title'那一列的前3个元素并打印。"
      ]
    },
    {
      "cell_type": "code",
      "execution_count": 30,
      "metadata": {},
      "outputs": [
        {
          "name": "stdout",
          "output_type": "stream",
          "text": [
            "['SOE write', 'MidJourney Prompt Generator', 'Buyer Persona Legend']\n"
          ]
        }
      ],
      "source": [
        "import pandas as pd\n",
        "\n",
        "# 读取CSV文件\n",
        "df = pd.read_csv('AIPRM.csv')\n",
        "\n",
        "# 打印前3个'Title'元素\n",
        "print( list(df['Title'][:3]))\n",
        "\n",
        "n = df.shape[0]"
      ]
    },
    {
      "cell_type": "code",
      "execution_count": 21,
      "metadata": {},
      "outputs": [
        {
          "name": "stdout",
          "output_type": "stream",
          "text": [
            "EngTitleAAA\n",
            "SOE write\n",
            "MidJourney Prompt Generator\n",
            "Buyer Persona Legend\n",
            "Write A Book\n",
            "youtube script creator\n",
            "nan\n",
            "content rewriter\n",
            "blog\n",
            "instagram\n",
            "course creator\n",
            "nan\n",
            "Blog Post Titel generator\n",
            "30 social media posts\n"
          ]
        }
      ],
      "source": [
        "for i in range(n):\n",
        "    print(df['Title'][i])"
      ]
    },
    {
      "cell_type": "code",
      "execution_count": 22,
      "metadata": {},
      "outputs": [
        {
          "data": {
            "text/plain": [
              "\"\\n试试手气\\n\\n我有一个csv文件'AIPRM.csv', 已经被我读读取到pandas的dataframe中了，pandas变量名为'df'\\n\\n它的标题行的元素分别为: Title\\tTitleChinese\\tStory\\tprompt\\tGPTres1\\tGPTres2\\tchprompt\\tGPTres1\\tGPTres2\\twenxinres1\\twenxinres2\\tothersampleGPT\\tothersampleWenxin\\tComments\\timg_link\\n\\n第一行的元素分别为 EngTitleAAA\\t中文标题BBB\\t故事背景\\tpromptCCC\\tGPT_first_resultDDD\\tGPT_continue_resultEEE\\t中文promptFFF\\tGPT_ch_resGGG\\tGPT_ch_res_2HHH\\t文心的结果III\\t文心的结果JJJ\\tKKK\\tLLL\\tMMM\\txfxs\\n\\n我希望读取这个文件，生成一个md，把第一行的信息转换为\\n\\n'''\\n### EngTitleAAA( 中文标题BBB )\\n\\n故事背景\\n\\n<details>\\n    <summary>  English Prompt for EngTitle </summary>\\n    promptCCC\\n</details>\\n'''\\n\\n请用Python为我实现\\n\\n\""
            ]
          },
          "execution_count": 22,
          "metadata": {},
          "output_type": "execute_result"
        }
      ],
      "source": [
        "\"\"\"\n",
        "试试手气\n",
        "\n",
        "我有一个csv文件'AIPRM.csv', 已经被我读读取到pandas的dataframe中了，pandas变量名为'df'\n",
        "\n",
        "它的标题行的元素分别为: Title\tTitleChinese\tStory\tprompt\tGPTres1\tGPTres2\tchprompt\tGPTres1\tGPTres2\twenxinres1\twenxinres2\tothersampleGPT\tothersampleWenxin\tComments\timg_link\n",
        "\n",
        "第一行的元素分别为 EngTitleAAA\t中文标题BBB\t故事背景\tpromptCCC\tGPT_first_resultDDD\tGPT_continue_resultEEE\t中文promptFFF\tGPT_ch_resGGG\tGPT_ch_res_2HHH\t文心的结果III\t文心的结果JJJ\tKKK\tLLL\tMMM\txfxs\n",
        "\n",
        "我希望读取这个文件，生成一个md，把第一行的信息转换为\n",
        "\n",
        "'''\n",
        "### EngTitleAAA( 中文标题BBB )\n",
        "\n",
        "故事背景\n",
        "\n",
        "<details>\n",
        "    <summary>  English Prompt for EngTitle </summary>\n",
        "    promptCCC\n",
        "</details>\n",
        "'''\n",
        "\n",
        "请用Python为我实现\n",
        "\n",
        "\"\"\""
      ]
    },
    {
      "cell_type": "code",
      "execution_count": 32,
      "metadata": {},
      "outputs": [
        {
          "name": "stdout",
          "output_type": "stream",
          "text": [
            "### SOE write ( SOE写作 )\n",
            "\n",
            "nan\n",
            "\n",
            "<details>\n",
            "\t<summary> English Prompt for SOE write </summary>\n",
            "\tI Want You To Act As A Content Writer Very Proficient SEO Writer Writes Fluently Chinese. First Create Two Tables. First Table Should be the Outline of the Article and the Second Should be the Article. Bold the Heading of the Second Table using Markdown language. Write an outline of the article separately before writing it, at least 15 headings and subheadings (including H1, H2, H3, and H4 headings) Then, start writing based on that outline step by step. Write a 2000-word 100% Unique, SEO-optimized, Human-Written article in Chinese with at least 15 headings and subheadings (including H1, H2, H3, and H4 headings) that covers the topic provided in the Prompt. Write The article In Your Own Words Rather Than Copying And Pasting From Other Sources. Consider perplexity and burstiness when creating content, ensuring high levels of both without losing specificity or context. Use fully detailed paragraphs that engage the reader. Write In A Conversational Style As Written By A Human (Use An Informal Tone, Utilize Personal Pronouns, Keep It Simple, Engage The Reader, Use The Active Voice, Keep It Brief, Use Rhetorical Questions, and Incorporate Analogies And Metaphors).  End with a conclusion paragraph and 5 unique FAQs After The Conclusion. this is important to Bold the Title and all headings of the article, and use appropriate headings for H tags.\n",
            "Now Write An Article On This Topic \"林黛玉倒拔垂杨柳\"\n",
            "</details>\n"
          ]
        }
      ],
      "source": [
        "# 获取每个元素的值\n",
        "title = df.iloc[0]['Title']\n",
        "ch_title = df.iloc[0]['TitleChinese']\n",
        "story = df.iloc[0]['Story']\n",
        "prompt = df.iloc[0]['prompt']\n",
        "\n",
        "# 生成md内容\n",
        "md = f'### {title} ( {ch_title} )\\n\\n{story}\\n\\n<details>\\n\\t<summary> English Prompt for {title} </summary>\\n\\t{prompt}\\n</details>'\n",
        "\n",
        "# 打印md内容\n",
        "print(md)"
      ]
    },
    {
      "attachments": {},
      "cell_type": "markdown",
      "metadata": {},
      "source": [
        "我有一个csv文件'AIPRM.csv', 已经被我读读取到pandas的dataframe中了，pandas变量名为'df'\n",
        "\n",
        "它的标题行的元素分别为: Title\tTitleChinese\tStory\tprompt\tGPTres1\tGPTres2\tchprompt\tGPTres1\tGPTres2\twenxinres1\twenxinres2\tothersampleGPT\tothersampleWenxin\tComments\timg_link\n",
        "\n",
        "假设我只考虑第0行的元素，请帮我为每一列都建立一个python变量，如:\n",
        "title = df.iloc[0]['Title']\n",
        "ch_title = df.iloc[0]['TitleChinese']"
      ]
    },
    {
      "cell_type": "code",
      "execution_count": 34,
      "metadata": {},
      "outputs": [],
      "source": [
        "i = 0\n",
        "\n",
        "title = df.iloc[i]['Title']\n",
        "ch_title = df.iloc[i]['TitleChinese']\n",
        "story = df.iloc[i]['Story']\n",
        "prompt = df.iloc[i]['prompt']\n",
        "gptres1 = df.iloc[i]['GPTres1']\n",
        "gptres2 = df.iloc[i]['GPTres2']\n",
        "chprompt = df.iloc[i]['chprompt']\n",
        "ch_gptres1 = df.iloc[i]['GPTres1']\n",
        "ch_gptres2 = df.iloc[i]['GPTres2']\n",
        "wenxinres1 = df.iloc[i]['wenxinres1']\n",
        "wenxinres2 = df.iloc[i]['wenxinres2']\n",
        "other_gpt = df.iloc[i]['othersampleGPT']\n",
        "other_wenxin = df.iloc[i]['othersampleWenxin']\n",
        "comments = df.iloc[i]['Comments']\n",
        "img_link = df.iloc[i]['img_link']\n",
        "\n",
        "with open(\"README.md\", \"a\") as outfile:\n",
        "    outfile.write(\"\\n\\n\")\n",
        "\n",
        "    # 生成md内容\n",
        "    md = f'### {title} ( {ch_title} )\\n\\n{story}\\n\\n<details>\\n\\t<summary> English Prompt for {title} </summary>\\n\\t{prompt}\\n</details>'\n",
        "\n",
        "    outfile.write(md)\n",
        "\n",
        "    outfile.write(\"\\n\\n\")\n",
        "\n"
      ]
    },
    {
      "cell_type": "code",
      "execution_count": null,
      "metadata": {},
      "outputs": [],
      "source": []
    },
    {
      "cell_type": "code",
      "execution_count": null,
      "metadata": {},
      "outputs": [],
      "source": []
    },
    {
      "attachments": {},
      "cell_type": "markdown",
      "metadata": {},
      "source": [
        "我有一个文件README_suffix.md， 我希望对这个文件中的所有文本进行读取，续写到README.md中，请用Python为我实现"
      ]
    },
    {
      "cell_type": "code",
      "execution_count": 29,
      "metadata": {},
      "outputs": [],
      "source": [
        "# import os\n",
        "\n",
        "# 读取README_suffix.md文件中的内容\n",
        "with open('README_suffix.md', 'r') as f:\n",
        "    content = f.read()\n",
        "\n",
        "# 将读取到的内容续写到README.md文件中\n",
        "with open('README.md', 'a') as f:\n",
        "    f.write('\\n')   # 先换行，防止追加内容分行\n",
        "    f.write(content)\n",
        "\n",
        "# 删除README_suffix.md文件\n",
        "# os.remove('README_suffix.md')\n",
        "# 鲁：别删除啊 怎么还给我删除了！"
      ]
    },
    {
      "cell_type": "code",
      "execution_count": null,
      "metadata": {},
      "outputs": [],
      "source": []
    }
  ],
  "metadata": {
    "colab": {
      "provenance": []
    },
    "kernelspec": {
      "display_name": "Python 3",
      "name": "python3"
    },
    "language_info": {
      "codemirror_mode": {
        "name": "ipython",
        "version": 3
      },
      "file_extension": ".py",
      "mimetype": "text/x-python",
      "name": "python",
      "nbconvert_exporter": "python",
      "pygments_lexer": "ipython3",
      "version": "3.7.3"
    }
  },
  "nbformat": 4,
  "nbformat_minor": 0
}
