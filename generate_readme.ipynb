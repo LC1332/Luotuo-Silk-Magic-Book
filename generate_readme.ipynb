{
 "cells": [
  {
   "cell_type": "code",
   "execution_count": 21,
   "metadata": {
    "id": "RGZ4KgtNrp-s"
   },
   "outputs": [],
   "source": [
    "# 打开原始文件和目标文件\n",
    "with open(\"README_prefix.md\", \"r\") as infile, open(\"README.md\", \"w\") as outfile:\n",
    "    # 读取原始文件中的全部内容，并写入目标文件\n",
    "    content = infile.read()\n",
    "    outfile.write(content)"
   ]
  },
  {
   "cell_type": "code",
   "execution_count": 22,
   "metadata": {},
   "outputs": [],
   "source": [
    "import pandas as pd\n",
    "\n",
    "# 读取CSV文件\n",
    "df = pd.read_csv('AIPRM.csv')\n",
    "\n",
    "n = df.shape[0] # 获取数据的行数"
   ]
  },
  {
   "cell_type": "code",
   "execution_count": 23,
   "metadata": {},
   "outputs": [],
   "source": [
    "titles = []\n",
    "ch_titles = []\n",
    "\n",
    "\n",
    "for i in range(n):\n",
    "    title = df.iloc[i]['Title']\n",
    "    titles.append( title )\n",
    "    ch_title = df.iloc[i]['TitleChinese']\n",
    "    ch_titles.append( ch_title )\n",
    "\n",
    "\n",
    "# print(jump_tags)\n",
    "\n",
    "jump_tags = ['JumpTag{}'.format(i) for i in range(len(titles))]\n",
    "\n",
    "for i in range(len(titles)):\n",
    "    titles[i] = '[' + titles[i] + '](#JumpTag{})'.format(i)\n",
    "\n",
    "rows = [titles[i:i+3] for i in range(0, len(titles), 3)]\n",
    "\n",
    "# 构造Markdown表格字符串\n",
    "table_str = '|' + '|'.join([' ', ' ', ' ']) + '|\\n'\n",
    "table_str += '|' + '|'.join(['---']*3) + '|\\n'\n",
    "for row in rows:\n",
    "    cols = []\n",
    "    for title in row:\n",
    "        cols.append(title)\n",
    "    cols += ['']*(3-len(cols))\n",
    "    table_str += '|' + '|'.join(cols) + '|\\n'\n",
    "\n",
    "with open(\"README.md\", \"a\") as outfile:\n",
    "    outfile.write(\"\\n\\n\")\n",
    "    outfile.write(table_str)\n",
    "    outfile.write(\"\\n\\n\")"
   ]
  },
  {
   "cell_type": "code",
   "execution_count": 24,
   "metadata": {},
   "outputs": [
    {
     "name": "stdout",
     "output_type": "stream",
     "text": [
      "| | | |\n",
      "|---|---|---|\n",
      "|[高质量SEO写作](#JumpTag0)|[MJ 提示语生成器](#JumpTag1)|[用户画像分析](#JumpTag2)|\n",
      "|[写一本书](#JumpTag3)|[视频脚本编写](#JumpTag4)|[第一人称SEO](#JumpTag5)|\n",
      "|[小学作文改写](#JumpTag6)|[博客](#JumpTag7)|[instagram](#JumpTag8)|\n",
      "|[课程生成器](#JumpTag9)|[Python专家](#JumpTag10)|[明天就去UC上班](#JumpTag11)|\n",
      "|[产品广告设计](#JumpTag12)|[SEO3](#JumpTag13)|[高转化率的Facebook广告](#JumpTag14)|\n",
      "|[Meta标题生成](#JumpTag15)|[Diffusion咒语3](#JumpTag16)|[TLDR文本总结](#JumpTag17)|\n",
      "|[EEAT新闻审查](#JumpTag18)|[通用代码生成](#JumpTag19)|[谷歌GBM](#JumpTag20)|\n",
      "|[知乎answer](#JumpTag21)|[SEO产品描述](#JumpTag22)|[GBM 15](#JumpTag23)|\n",
      "|[标题和标签](#JumpTag24)|[每天一篇UC博客](#JumpTag25)||\n",
      "\n"
     ]
    }
   ],
   "source": [
    "for i in range(len(ch_titles)):\n",
    "    ch_titles[i] = '[' + ch_titles[i] + '](#JumpTag{})'.format(i)\n",
    "    # titles[i] = '[' + titles[i] + '](#JumpTag{})'.format(i)\n",
    "\n",
    "rows = [ch_titles[i:i+3] for i in range(0, len(ch_titles), 3)]\n",
    "# rows = [titles[i:i+3] for i in range(0, len(titles), 3)]\n",
    "\n",
    "# 构造Markdown表格字符串\n",
    "table_str = '|' + '|'.join([' ', ' ', ' ']) + '|\\n'\n",
    "table_str += '|' + '|'.join(['---']*3) + '|\\n'\n",
    "for row in rows:\n",
    "    cols = []\n",
    "    for ch_titles in row:\n",
    "        cols.append(ch_titles)\n",
    "    cols += ['']*(3-len(cols))\n",
    "    table_str += '|' + '|'.join(cols) + '|\\n'\n",
    "\n",
    "print(table_str)\n",
    "\n",
    "with open(\"README.md\", \"a\") as outfile:\n",
    "    outfile.write(\"\\n\\n\")\n",
    "\n",
    "    outfile.write(table_str)\n",
    "\n",
    "    outfile.write(\"\\n\\n\")"
   ]
  },
  {
   "cell_type": "code",
   "execution_count": 25,
   "metadata": {},
   "outputs": [],
   "source": [
    "\"\"\"\n",
    "\n",
    "实现一个Python函数，给定字符串A和字符串B，输出md格式的字符串\n",
    "\n",
    "<details>\n",
    "    <summary>  A </summary>\n",
    "    B\n",
    "</details>\n",
    "\n",
    "\"\"\"\n",
    "\n",
    "def sum_detail( sum_str, detail_str):\n",
    "    return \"<details>\\n    <summary>\"+sum_str+\"</summary>\\n    \"+detail_str+\"\\n</details>\""
   ]
  },
  {
   "cell_type": "code",
   "execution_count": 26,
   "metadata": {},
   "outputs": [],
   "source": [
    "'''\n",
    "实现一个Python函数，给定字符串如'SEO.png'，输出如下字符串\n",
    "\n",
    "<p align=\"center\">\n",
    "    <img src=\"image/SEO.png\">\n",
    "</p>\n",
    "\n",
    "'''\n",
    "\n",
    "def html_figure(img):\n",
    "    return f'<p align=\"center\">\\n    <img src=\"image/{img}\">\\n</p>'"
   ]
  },
  {
   "cell_type": "code",
   "execution_count": 27,
   "metadata": {},
   "outputs": [],
   "source": [
    "# 用Python程序，生成一个List of String, 长度为n , 每一个元素存储了一个Markdown的字符串, 如 '<a name=\"JumpTag0\"></a>', <a name=\"JumpTag1\"></a>\n",
    "\n",
    "target_tags = ['<a name=\"JumpTag{}\"></a>'.format(i) for i in range(n)]\n",
    "\n",
    "for i in range(n):\n",
    "\n",
    "    title = df.iloc[i]['Title']\n",
    "    ch_title = df.iloc[i]['TitleChinese']\n",
    "    story = df.iloc[i]['Story']\n",
    "    prompt = df.iloc[i]['prompt']\n",
    "    gptres1 = df.iloc[i]['GPTres1']\n",
    "    gptres2 = df.iloc[i]['GPTres2']\n",
    "    chprompt = df.iloc[i]['chprompt']\n",
    "    ch_gptres1 = df.iloc[i]['GPTres1Ch']\n",
    "    ch_gptres2 = df.iloc[i]['GPTres2Ch']\n",
    "    wenxinres1 = df.iloc[i]['wenxinres1']\n",
    "    wenxinres2 = df.iloc[i]['wenxinres2']\n",
    "    other_gpt = df.iloc[i]['othersampleGPT']\n",
    "    other_wenxin = df.iloc[i]['othersampleWenxin']\n",
    "    comments = df.iloc[i]['Comments']\n",
    "    img_link = df.iloc[i]['img_link']\n",
    "\n",
    "    with open(\"README.md\", \"a\") as outfile:\n",
    "        outfile.write(\"\\n\\n\")\n",
    "\n",
    "        outfile.write(\"\\n---\\n\")\n",
    "\n",
    "        outfile.write(target_tags[i])\n",
    "\n",
    "        outfile.write(\"\\n\\n\")\n",
    "\n",
    "        # 生成md内容\n",
    "        # md = f'### {title} ( {ch_title} )\\n\\n{story}\\n\\n<details>\\n\\t<summary> English Prompt for {title} </summary>\\n\\t{prompt}\\n</details>'\n",
    "        # outfile.write(md)\n",
    "\n",
    "        title_str = f'### {title} ( {ch_title} )\\n\\n'\n",
    "        outfile.write(title_str)\n",
    "\n",
    "        # check if story is a valid string\n",
    "        if isinstance(story, str):\n",
    "            story_str = f'{story}\\n\\n'\n",
    "            outfile.write(story_str)\n",
    "\n",
    "        if isinstance(img_link,str):\n",
    "            img_str = html_figure( img_link )\n",
    "            outfile.write( img_str )\n",
    "\n",
    "        if isinstance(prompt, str):\n",
    "            prompt_sum = f'English Prompt for {title}'\n",
    "            prompt_detail = f'{prompt}'\n",
    "            prompt_str = sum_detail(prompt_sum, prompt_detail)\n",
    "            outfile.write(prompt_str)\n",
    "\n",
    "        if isinstance(gptres1, str):\n",
    "            GPTres1_sum = f'GPT output'\n",
    "            GPTres1_detail = f'{gptres1}'\n",
    "            GPTres1_str = sum_detail(GPTres1_sum, GPTres1_detail)\n",
    "            outfile.write(GPTres1_str)\n",
    "\n",
    "        if isinstance(gptres2, str):\n",
    "            GPTres2_sum = f'GPT output after say continue'\n",
    "            GPTres2_detail = f'{gptres2}'\n",
    "            GPTres2_str = sum_detail(GPTres2_sum, GPTres2_detail)\n",
    "            outfile.write(GPTres2_str)\n",
    "\n",
    "        if isinstance(chprompt, str):\n",
    "            chprompt_sum = f'Chinese Prompt for {title}, 召唤咒语！{ch_title}'\n",
    "            chprompt_detail = f'{chprompt}'\n",
    "            chprompt_str = sum_detail(chprompt_sum, chprompt_detail)\n",
    "            outfile.write(chprompt_str)\n",
    "\n",
    "        if isinstance(ch_gptres1, str):\n",
    "            ch_GPTres1_sum = f'GPT在中文Prompt下的结果'\n",
    "            ch_GPTres1_detail = f'{ch_gptres1}'\n",
    "            ch_GPTres1_str = sum_detail(ch_GPTres1_sum, ch_GPTres1_detail)\n",
    "            outfile.write(ch_GPTres1_str)\n",
    "\n",
    "        if isinstance(ch_gptres2, str):\n",
    "            ch_GPTres2_sum = f'GPT继续输入continue之后的输出'\n",
    "            ch_GPTres2_detail = f'{ch_gptres2}'\n",
    "            ch_GPTres2_str = sum_detail(ch_GPTres2_sum, ch_GPTres2_detail)\n",
    "            outfile.write(ch_GPTres2_str)\n",
    "\n",
    "        if isinstance(wenxinres1, str):\n",
    "            wenxinres1_sum = f'文心一言的结果'\n",
    "            wenxinres1_detail = f'{wenxinres1}'\n",
    "            wenxinres1_str = sum_detail(wenxinres1_sum, wenxinres1_detail)\n",
    "            outfile.write(wenxinres1_str)\n",
    "\n",
    "        if isinstance(wenxinres2, str):\n",
    "            wenxinres2_sum = f'和 文心 说 继续 之后的输出'\n",
    "            wenxinres2_detail = f'{wenxinres2}'\n",
    "            wenxinres2_str = sum_detail(wenxinres2_sum, wenxinres2_detail)\n",
    "            outfile.write(wenxinres2_str)\n",
    "\n",
    "        if isinstance(other_gpt, str):\n",
    "            other_gpt_sum = f'另一个故事，GPT的输出'\n",
    "            other_gpt_detail = f'{other_gpt}'\n",
    "            other_gpt_str = sum_detail(other_gpt_sum, other_gpt_detail)\n",
    "            outfile.write(other_gpt_str)\n",
    "\n",
    "        if isinstance(other_wenxin, str):\n",
    "            other_wenxin_sum = f'另一个故事，文心一言的输出'\n",
    "            other_wenxin_detail = f'{other_wenxin}'\n",
    "            other_wenxin_str = sum_detail(other_wenxin_sum, other_wenxin_detail)\n",
    "            outfile.write(other_wenxin_str)\n",
    "\n",
    "        if isinstance(comments, str):\n",
    "\n",
    "            if len(comments) > 120:\n",
    "\n",
    "                comments_sum = f'鲁鲁的comments'\n",
    "                comments_detail = f'{comments}'\n",
    "                \n",
    "                comments_str = sum_detail(comments_sum, comments_detail)\n",
    "                outfile.write(comments_str)\n",
    "            else:\n",
    "                outfile.write(f'\\n\\n鲁鲁的comments: {comments}\\n\\n')\n",
    "                \n",
    "        outfile.write(\"\\n\\n\")\n",
    "\n",
    "        outfile.write(\"跳转到[目录](#TabOfCont)\\n\")\n",
    "\n",
    "        outfile.write(\"\\n\\n\")"
   ]
  },
  {
   "cell_type": "code",
   "execution_count": 28,
   "metadata": {},
   "outputs": [],
   "source": [
    "# import os\n",
    "\n",
    "# 读取README_suffix.md文件中的内容\n",
    "with open('README_suffix.md', 'r') as f:\n",
    "    content = f.read()\n",
    "\n",
    "# 将读取到的内容续写到README.md文件中\n",
    "with open('README.md', 'a') as f:\n",
    "    f.write('\\n')   # 先换行，防止追加内容分行\n",
    "    f.write(content)\n",
    "\n",
    "# 删除README_suffix.md文件\n",
    "# os.remove('README_suffix.md')\n",
    "# 鲁：别删除啊 怎么还给我删除了！"
   ]
  },
  {
   "cell_type": "code",
   "execution_count": 9,
   "metadata": {},
   "outputs": [],
   "source": [
    "# experiment on table\n",
    "\n",
    "import pandas as pd\n",
    "\n",
    "# 读取CSV文件\n",
    "df = pd.read_csv('AIPRM.csv')\n",
    "\n",
    "n = df.shape[0] # 获取数据的行数"
   ]
  },
  {
   "cell_type": "code",
   "execution_count": 10,
   "metadata": {},
   "outputs": [
    {
     "name": "stdout",
     "output_type": "stream",
     "text": [
      "[高质量SEO写作](#JumpTag0)\n"
     ]
    }
   ],
   "source": [
    "print(rows[0][0])"
   ]
  },
  {
   "cell_type": "markdown",
   "metadata": {},
   "source": [
    "我有两个Python的List of string, titles和jump_tags ，其中，\n",
    "\n",
    "titles = ['SOE write', 'MidJourney Prompt Generator', 'Buyer Persona Legend', 'Write A Book', 'Youtube script creator']\n",
    "\n",
    "我希望得到一个字符串table_str 把titles的每一个元素都打印在一个3列的Markdown表格中，以 [title](#JumpTag0) 这样的形式输出 如\n",
    "\n",
    "| [SOE write](#JumpTag0) | [MidJourney Prompt Generator](#JumpTag1) | [Buyer Persona Legend](#JumpTag2) | "
   ]
  },
  {
   "cell_type": "code",
   "execution_count": 11,
   "metadata": {},
   "outputs": [
    {
     "name": "stdout",
     "output_type": "stream",
     "text": [
      "['[SEO write](#JumpTag0)', '[MidJourney Prompt Generator](#JumpTag1)', '[Buyer Persona Legend](#JumpTag2)', '[Write A Book](#JumpTag3)', '[Youtube script creator](#JumpTag4)', '[SEO2](#JumpTag5)', '[content rewriter](#JumpTag6)', '[blog](#JumpTag7)', '[instagram](#JumpTag8)', '[course creator](#JumpTag9)', '[Python](#JumpTag10)', '[Blog Post Titel generator](#JumpTag11)', '[30 social media posts](#JumpTag12)', '[SEO3](#JumpTag13)', '[high-converting facebook ad](#JumpTag14)', '[Meta-Title & Description](#JumpTag15)', '[Stable Diffusion Prompt3](#JumpTag16)', '[TLDR](#JumpTag17)', '[EEAT Evaluating](#JumpTag18)', '[generic code generator](#JumpTag19)', '[Google Business Profile](#JumpTag20)', '[Quora Answer](#JumpTag21)', '[Product Description](#JumpTag22)', '[15 GMB posts](#JumpTag23)', '[HashTags](#JumpTag24)', '[E-E-A-T Blogs](#JumpTag25)']\n"
     ]
    }
   ],
   "source": [
    "print(titles)"
   ]
  },
  {
   "cell_type": "code",
   "execution_count": 12,
   "metadata": {},
   "outputs": [
    {
     "name": "stdout",
     "output_type": "stream",
     "text": [
      "hello world\n"
     ]
    }
   ],
   "source": [
    "print('hello world')"
   ]
  },
  {
   "cell_type": "markdown",
   "metadata": {},
   "source": [
    "我有一个文件README_prefix.md， 我希望对这个文件中的所有文本进行读取，写入到README.md中，然后再在README.md后面输出一行\"hello world\",请用Python为我实现"
   ]
  },
  {
   "cell_type": "code",
   "execution_count": 13,
   "metadata": {},
   "outputs": [],
   "source": [
    "# 打开原始文件和目标文件\n",
    "with open(\"README_prefix.md\", \"r\") as infile, open(\"README.md\", \"w\") as outfile:\n",
    "    # 读取原始文件中的全部内容，并写入目标文件\n",
    "    content = infile.read()\n",
    "    outfile.write(content)\n",
    "\n",
    "# 在目标文件末尾追加一行\"hello world\"\n",
    "# with open(\"README.md\", \"a\") as outfile:\n",
    "#     outfile.write(\"\\nhello world\\n\")"
   ]
  },
  {
   "cell_type": "markdown",
   "metadata": {},
   "source": [
    "我有一个csv文件,'AIPRM.csv',请在Python中使用pandas为我读入这个文件。这个文件的第一行都是标题，从第二行开始才是内容。读入之后，调用'Title'那一列的前3个元素并打印。"
   ]
  },
  {
   "cell_type": "code",
   "execution_count": 14,
   "metadata": {},
   "outputs": [
    {
     "name": "stdout",
     "output_type": "stream",
     "text": [
      "['SEO write', 'MidJourney Prompt Generator', 'Buyer Persona Legend']\n"
     ]
    }
   ],
   "source": [
    "import pandas as pd\n",
    "\n",
    "# 读取CSV文件\n",
    "df = pd.read_csv('AIPRM.csv')\n",
    "\n",
    "# 打印前3个'Title'元素\n",
    "print( list(df['Title'][:3]))\n",
    "\n",
    "n = df.shape[0]"
   ]
  },
  {
   "cell_type": "code",
   "execution_count": 15,
   "metadata": {},
   "outputs": [
    {
     "name": "stdout",
     "output_type": "stream",
     "text": [
      "SEO write\n",
      "MidJourney Prompt Generator\n",
      "Buyer Persona Legend\n",
      "Write A Book\n",
      "Youtube script creator\n",
      "SEO2\n",
      "content rewriter\n",
      "blog\n",
      "instagram\n",
      "course creator\n",
      "Python\n",
      "Blog Post Titel generator\n",
      "30 social media posts\n",
      "SEO3\n",
      "high-converting facebook ad\n",
      "Meta-Title & Description\n",
      "Stable Diffusion Prompt3\n",
      "TLDR\n",
      "EEAT Evaluating\n",
      "generic code generator\n",
      "Google Business Profile\n",
      "Quora Answer\n",
      "Product Description\n",
      "15 GMB posts\n",
      "HashTags\n",
      "E-E-A-T Blogs\n"
     ]
    }
   ],
   "source": [
    "for i in range(n):\n",
    "    print(df['Title'][i])"
   ]
  },
  {
   "cell_type": "code",
   "execution_count": 16,
   "metadata": {},
   "outputs": [
    {
     "data": {
      "text/plain": [
       "\"\\n试试手气\\n\\n我有一个csv文件'AIPRM.csv', 已经被我读读取到pandas的dataframe中了，pandas变量名为'df'\\n\\n它的标题行的元素分别为: Title\\tTitleChinese\\tStory\\tprompt\\tGPTres1\\tGPTres2\\tchprompt\\tGPTres1\\tGPTres2\\twenxinres1\\twenxinres2\\tothersampleGPT\\tothersampleWenxin\\tComments\\timg_link\\n\\n第一行的元素分别为 EngTitleAAA\\t中文标题BBB\\t故事背景\\tpromptCCC\\tGPT_first_resultDDD\\tGPT_continue_resultEEE\\t中文promptFFF\\tGPT_ch_resGGG\\tGPT_ch_res_2HHH\\t文心的结果III\\t文心的结果JJJ\\tKKK\\tLLL\\tMMM\\txfxs\\n\\n我希望读取这个文件，生成一个md，把第一行的信息转换为\\n\\n'''\\n### EngTitleAAA( 中文标题BBB )\\n\\n故事背景\\n\\n<details>\\n    <summary>  English Prompt for EngTitle </summary>\\n    promptCCC\\n</details>\\n'''\\n\\n请用Python为我实现\\n\\n\""
      ]
     },
     "execution_count": 16,
     "metadata": {},
     "output_type": "execute_result"
    }
   ],
   "source": [
    "\"\"\"\n",
    "试试手气\n",
    "\n",
    "我有一个csv文件'AIPRM.csv', 已经被我读读取到pandas的dataframe中了，pandas变量名为'df'\n",
    "\n",
    "它的标题行的元素分别为: Title\tTitleChinese\tStory\tprompt\tGPTres1\tGPTres2\tchprompt\tGPTres1\tGPTres2\twenxinres1\twenxinres2\tothersampleGPT\tothersampleWenxin\tComments\timg_link\n",
    "\n",
    "第一行的元素分别为 EngTitleAAA\t中文标题BBB\t故事背景\tpromptCCC\tGPT_first_resultDDD\tGPT_continue_resultEEE\t中文promptFFF\tGPT_ch_resGGG\tGPT_ch_res_2HHH\t文心的结果III\t文心的结果JJJ\tKKK\tLLL\tMMM\txfxs\n",
    "\n",
    "我希望读取这个文件，生成一个md，把第一行的信息转换为\n",
    "\n",
    "'''\n",
    "### EngTitleAAA( 中文标题BBB )\n",
    "\n",
    "故事背景\n",
    "\n",
    "<details>\n",
    "    <summary>  English Prompt for EngTitle </summary>\n",
    "    promptCCC\n",
    "</details>\n",
    "'''\n",
    "\n",
    "请用Python为我实现\n",
    "\n",
    "\"\"\""
   ]
  },
  {
   "cell_type": "code",
   "execution_count": 17,
   "metadata": {},
   "outputs": [
    {
     "name": "stdout",
     "output_type": "stream",
     "text": [
      "### SEO write ( 高质量SEO写作 )\n",
      "\n",
      "林黛玉倒拔垂杨柳\n",
      "\n",
      "<details>\n",
      "\t<summary> English Prompt for SEO write </summary>\n",
      "\tI Want You To Act As A Content Writer Very Proficient SEO Writer Writes Fluently Chinese. First Create Two Tables. First Table Should be the Outline of the Article and the Second Should be the Article. Bold the Heading of the Second Table using Markdown language. Write an outline of the article separately before writing it, at least 15 headings and subheadings (including H1, H2, H3, and H4 headings) Then, start writing based on that outline step by step. Write a 2000-word 100% Unique, SEO-optimized, Human-Written article in Chinese with at least 15 headings and subheadings (including H1, H2, H3, and H4 headings) that covers the topic provided in the Prompt. Write The article In Your Own Words Rather Than Copying And Pasting From Other Sources. Consider perplexity and burstiness when creating content, ensuring high levels of both without losing specificity or context. Use fully detailed paragraphs that engage the reader. Write In A Conversational Style As Written By A Human (Use An Informal Tone, Utilize Personal Pronouns, Keep It Simple, Engage The Reader, Use The Active Voice, Keep It Brief, Use Rhetorical Questions, and Incorporate Analogies And Metaphors).  End with a conclusion paragraph and 5 unique FAQs After The Conclusion. this is important to Bold the Title and all headings of the article, and use appropriate headings for H tags.\n",
      "Now Write An Article On This Topic \"林黛玉倒拔垂杨柳\"\n",
      "</details>\n"
     ]
    }
   ],
   "source": [
    "# 获取每个元素的值\n",
    "title = df.iloc[0]['Title']\n",
    "ch_title = df.iloc[0]['TitleChinese']\n",
    "story = df.iloc[0]['Story']\n",
    "prompt = df.iloc[0]['prompt']\n",
    "\n",
    "# 生成md内容\n",
    "md = f'### {title} ( {ch_title} )\\n\\n{story}\\n\\n<details>\\n\\t<summary> English Prompt for {title} </summary>\\n\\t{prompt}\\n</details>'\n",
    "\n",
    "# 打印md内容\n",
    "print(md)"
   ]
  },
  {
   "cell_type": "markdown",
   "metadata": {},
   "source": [
    "我有一个csv文件'AIPRM.csv', 已经被我读读取到pandas的dataframe中了，pandas变量名为'df'\n",
    "\n",
    "它的标题行的元素分别为: Title\tTitleChinese\tStory\tprompt\tGPTres1\tGPTres2\tchprompt\tGPTres1\tGPTres2\twenxinres1\twenxinres2\tothersampleGPT\tothersampleWenxin\tComments\timg_link\n",
    "\n",
    "假设我只考虑第0行的元素，请帮我为每一列都建立一个python变量，如:\n",
    "title = df.iloc[0]['Title']\n",
    "ch_title = df.iloc[0]['TitleChinese']"
   ]
  },
  {
   "cell_type": "code",
   "execution_count": 18,
   "metadata": {},
   "outputs": [],
   "source": [
    "\"\"\"\n",
    "\n",
    "实现一个Python函数，给定字符串A和字符串B，输出md格式的字符串\n",
    "\n",
    "<details>\n",
    "    <summary>  A </summary>\n",
    "    B\n",
    "</details>\n",
    "\n",
    "\"\"\"\n",
    "\n",
    "def sum_detail( sum_str, detail_str):\n",
    "    return \"<details>\\n    <summary>\"+sum_str+\"</summary>\\n    \"+detail_str+\"\\n</details>\""
   ]
  },
  {
   "cell_type": "code",
   "execution_count": 19,
   "metadata": {},
   "outputs": [],
   "source": [
    "i = 0\n",
    "\n",
    "title = df.iloc[i]['Title']\n",
    "ch_title = df.iloc[i]['TitleChinese']\n",
    "story = df.iloc[i]['Story']\n",
    "prompt = df.iloc[i]['prompt']\n",
    "gptres1 = df.iloc[i]['GPTres1']\n",
    "gptres2 = df.iloc[i]['GPTres2']\n",
    "chprompt = df.iloc[i]['chprompt']\n",
    "ch_gptres1 = df.iloc[i]['GPTres1']\n",
    "ch_gptres2 = df.iloc[i]['GPTres2']\n",
    "wenxinres1 = df.iloc[i]['wenxinres1']\n",
    "wenxinres2 = df.iloc[i]['wenxinres2']\n",
    "other_gpt = df.iloc[i]['othersampleGPT']\n",
    "other_wenxin = df.iloc[i]['othersampleWenxin']\n",
    "comments = df.iloc[i]['Comments']\n",
    "img_link = df.iloc[i]['img_link']\n",
    "\n",
    "with open(\"README.md\", \"a\") as outfile:\n",
    "    outfile.write(\"\\n\\n\")\n",
    "\n",
    "    # 生成md内容\n",
    "    # md = f'### {title} ( {ch_title} )\\n\\n{story}\\n\\n<details>\\n\\t<summary> English Prompt for {title} </summary>\\n\\t{prompt}\\n</details>'\n",
    "    # outfile.write(md)\n",
    "\n",
    "    title_str = f'### {title} ( {ch_title} )\\n\\n'\n",
    "    outfile.write(title_str)\n",
    "\n",
    "    story_str = f'{story}\\n\\n'\n",
    "    outfile.write(story_str)\n",
    "\n",
    "    prompt_sum = f'English Prompt for {title}'\n",
    "    prompt_detail = f'{prompt}'\n",
    "    prompt_str = sum_detail(prompt_sum, prompt_detail)\n",
    "    outfile.write(prompt_str)\n",
    "    outfile.write(\"\\n\\n\")"
   ]
  },
  {
   "cell_type": "markdown",
   "metadata": {},
   "source": [
    "我有一个文件README_suffix.md， 我希望对这个文件中的所有文本进行读取，续写到README.md中，请用Python为我实现"
   ]
  },
  {
   "cell_type": "code",
   "execution_count": 20,
   "metadata": {},
   "outputs": [],
   "source": [
    "# import os\n",
    "\n",
    "# 读取README_suffix.md文件中的内容\n",
    "with open('README_suffix.md', 'r') as f:\n",
    "    content = f.read()\n",
    "\n",
    "# 将读取到的内容续写到README.md文件中\n",
    "with open('README.md', 'a') as f:\n",
    "    f.write('\\n')   # 先换行，防止追加内容分行\n",
    "    f.write(content)\n",
    "\n",
    "# # 删除README_suffix.md文件\n",
    "# # os.remove('README_suffix.md')\n",
    "# # 鲁：别删除啊 怎么还给我删除了！"
   ]
  }
 ],
 "metadata": {
  "colab": {
   "provenance": []
  },
  "kernelspec": {
   "display_name": "Python 3 (ipykernel)",
   "language": "python",
   "name": "python3"
  },
  "language_info": {
   "codemirror_mode": {
    "name": "ipython",
    "version": 3
   },
   "file_extension": ".py",
   "mimetype": "text/x-python",
   "name": "python",
   "nbconvert_exporter": "python",
   "pygments_lexer": "ipython3",
   "version": "3.11.0"
  }
 },
 "nbformat": 4,
 "nbformat_minor": 4
}
